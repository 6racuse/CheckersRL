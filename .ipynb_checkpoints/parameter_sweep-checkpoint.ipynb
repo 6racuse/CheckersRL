{
 "cells": [
  {
   "cell_type": "code",
   "execution_count": null,
   "metadata": {},
   "outputs": [
    {
     "name": "stdout",
     "output_type": "stream",
     "text": [
      "\n",
      "Training MC Agent with gamma = 0.897\n"
     ]
    },
    {
     "name": "stderr",
     "output_type": "stream",
     "text": [
      "Episodes:   1%|          | 3/250 [00:00<00:10, 23.06episode/s, epsilon=0.996, total_reward=204]    "
     ]
    },
    {
     "name": "stdout",
     "output_type": "stream",
     "text": [
      "Episode 1: New best total reward: 736.2792217072638\n",
      "Episode 3: New best total reward: 2290.363211796524\n"
     ]
    },
    {
     "name": "stderr",
     "output_type": "stream",
     "text": [
      "Episodes:  10%|█         | 26/250 [00:00<00:07, 29.73episode/s, epsilon=0.973, total_reward=1.56e+3]"
     ]
    },
    {
     "name": "stdout",
     "output_type": "stream",
     "text": [
      "Episode 23: New best total reward: 2569.4337863950677\n"
     ]
    },
    {
     "name": "stderr",
     "output_type": "stream",
     "text": [
      "Episodes:  17%|█▋        | 42/250 [00:01<00:08, 24.11episode/s, epsilon=0.957, total_reward=1.99e+3]"
     ]
    },
    {
     "name": "stdout",
     "output_type": "stream",
     "text": [
      "Episode 39: New best total reward: 3012.692833861918\n"
     ]
    },
    {
     "name": "stderr",
     "output_type": "stream",
     "text": [
      "Episodes:  73%|███████▎  | 182/250 [00:06<00:03, 21.19episode/s, epsilon=0.832, total_reward=2.32e+3] "
     ]
    },
    {
     "name": "stdout",
     "output_type": "stream",
     "text": [
      "Episode 177: New best total reward: 3150.375148752567\n"
     ]
    },
    {
     "name": "stderr",
     "output_type": "stream",
     "text": [
      "Episodes: 100%|██████████| 250/250 [00:08<00:00, 29.89episode/s, epsilon=0.779, total_reward=-1.07e+3]\n"
     ]
    },
    {
     "name": "stdout",
     "output_type": "stream",
     "text": [
      "Gamma: 0.897 -> Avg Reward: 761.86, Win Rate: 0.42\n",
      "\n",
      "Training MC Agent with gamma = 0.8976842105263159\n"
     ]
    },
    {
     "name": "stderr",
     "output_type": "stream",
     "text": [
      "Episodes:   1%|          | 2/250 [00:00<00:19, 12.78episode/s, epsilon=0.997, total_reward=-275]   "
     ]
    },
    {
     "name": "stdout",
     "output_type": "stream",
     "text": [
      "Episode 1: New best total reward: 25.6818236758117\n",
      "Episode 2: New best total reward: 1248.0832611206856\n"
     ]
    },
    {
     "name": "stderr",
     "output_type": "stream",
     "text": [
      "Episodes:   2%|▏         | 6/250 [00:00<00:09, 25.75episode/s, epsilon=0.994, total_reward=2.26e+3]"
     ]
    },
    {
     "name": "stdout",
     "output_type": "stream",
     "text": [
      "Episode 5: New best total reward: 2554.007423250189\n"
     ]
    },
    {
     "name": "stderr",
     "output_type": "stream",
     "text": [
      "Episodes:   4%|▎         | 9/250 [00:00<00:09, 26.11episode/s, epsilon=0.99, total_reward=2.66e+3] "
     ]
    },
    {
     "name": "stdout",
     "output_type": "stream",
     "text": [
      "Episode 10: New best total reward: 2663.997727461943\n"
     ]
    },
    {
     "name": "stderr",
     "output_type": "stream",
     "text": [
      "Episodes:  16%|█▋        | 41/250 [00:01<00:08, 25.84episode/s, epsilon=0.957, total_reward=360]    "
     ]
    },
    {
     "name": "stdout",
     "output_type": "stream",
     "text": [
      "Episode 39: New best total reward: 3518.5249913521984\n"
     ]
    },
    {
     "name": "stderr",
     "output_type": "stream",
     "text": [
      "Episodes: 100%|██████████| 250/250 [00:08<00:00, 30.91episode/s, epsilon=0.779, total_reward=1.32e+3] \n"
     ]
    },
    {
     "name": "stdout",
     "output_type": "stream",
     "text": [
      "Gamma: 0.8976842105263159 -> Avg Reward: 1125.10, Win Rate: 0.42\n",
      "\n",
      "Training MC Agent with gamma = 0.8983684210526316\n"
     ]
    },
    {
     "name": "stderr",
     "output_type": "stream",
     "text": [
      "Episodes:   2%|▏         | 4/250 [00:00<00:07, 35.03episode/s, epsilon=0.994, total_reward=1.65e+3]"
     ]
    },
    {
     "name": "stdout",
     "output_type": "stream",
     "text": [
      "Episode 1: New best total reward: 2013.0\n"
     ]
    },
    {
     "name": "stderr",
     "output_type": "stream",
     "text": [
      "Episodes:   6%|▋         | 16/250 [00:00<00:08, 29.08episode/s, epsilon=0.984, total_reward=2.26e+3]"
     ]
    },
    {
     "name": "stdout",
     "output_type": "stream",
     "text": [
      "Episode 9: New best total reward: 2424.562036953633\n",
      "Episode 13: New best total reward: 2500.8495909626668\n"
     ]
    },
    {
     "name": "stderr",
     "output_type": "stream",
     "text": [
      "Episodes:  12%|█▏        | 30/250 [00:01<00:07, 27.65episode/s, epsilon=0.969, total_reward=2.14e+3]"
     ]
    },
    {
     "name": "stdout",
     "output_type": "stream",
     "text": [
      "Episode 26: New best total reward: 2530.3892759482424\n"
     ]
    },
    {
     "name": "stderr",
     "output_type": "stream",
     "text": [
      "Episodes:  88%|████████▊ | 221/250 [00:07<00:02, 12.96episode/s, epsilon=0.798, total_reward=1.12e+3] "
     ]
    },
    {
     "name": "stdout",
     "output_type": "stream",
     "text": [
      "Episode 219: New best total reward: 3256.1673603709523\n"
     ]
    },
    {
     "name": "stderr",
     "output_type": "stream",
     "text": [
      "Episodes: 100%|██████████| 250/250 [00:08<00:00, 28.41episode/s, epsilon=0.779, total_reward=1.58e+3]\n"
     ]
    },
    {
     "name": "stdout",
     "output_type": "stream",
     "text": [
      "Gamma: 0.8983684210526316 -> Avg Reward: 941.99, Win Rate: 0.44\n",
      "\n",
      "Training MC Agent with gamma = 0.8990526315789474\n"
     ]
    },
    {
     "name": "stderr",
     "output_type": "stream",
     "text": [
      "Episodes:   1%|          | 3/250 [00:00<00:10, 22.95episode/s, epsilon=0.996, total_reward=3.28e+3]"
     ]
    },
    {
     "name": "stdout",
     "output_type": "stream",
     "text": [
      "Episode 1: New best total reward: 2341.37839742881\n"
     ]
    },
    {
     "name": "stderr",
     "output_type": "stream",
     "text": [
      "Episodes:   2%|▏         | 6/250 [00:00<00:09, 25.37episode/s, epsilon=0.993, total_reward=1.83e+3]"
     ]
    },
    {
     "name": "stdout",
     "output_type": "stream",
     "text": [
      "Episode 4: New best total reward: 3279.799607959942\n"
     ]
    },
    {
     "name": "stderr",
     "output_type": "stream",
     "text": [
      "Episodes:  11%|█         | 27/250 [00:01<00:07, 28.58episode/s, epsilon=0.972, total_reward=1.03e+3]"
     ]
    },
    {
     "name": "stdout",
     "output_type": "stream",
     "text": [
      "Episode 22: New best total reward: 3622.521151236829\n"
     ]
    },
    {
     "name": "stderr",
     "output_type": "stream",
     "text": [
      "Episodes: 100%|██████████| 250/250 [00:07<00:00, 32.96episode/s, epsilon=0.779, total_reward=1.26e+3] \n"
     ]
    },
    {
     "name": "stdout",
     "output_type": "stream",
     "text": [
      "Gamma: 0.8990526315789474 -> Avg Reward: 1021.90, Win Rate: 0.58\n",
      "\n",
      "Training MC Agent with gamma = 0.8997368421052632\n"
     ]
    },
    {
     "name": "stderr",
     "output_type": "stream",
     "text": [
      "Episodes:   1%|          | 3/250 [00:00<00:10, 22.64episode/s, epsilon=0.995, total_reward=-246]   "
     ]
    },
    {
     "name": "stdout",
     "output_type": "stream",
     "text": [
      "Episode 1: New best total reward: 1405.5990634543398\n",
      "Episode 3: New best total reward: 1470.0643335943878\n"
     ]
    },
    {
     "name": "stderr",
     "output_type": "stream",
     "text": [
      "Episodes:   4%|▎         | 9/250 [00:00<00:09, 26.10episode/s, epsilon=0.989, total_reward=2.8e+3] "
     ]
    },
    {
     "name": "stdout",
     "output_type": "stream",
     "text": [
      "Episode 7: New best total reward: 1992.0411467782824\n",
      "Episode 10: New best total reward: 2149.1822200051884\n",
      "Episode 11: New best total reward: 2796.4871525756575\n"
     ]
    },
    {
     "name": "stderr",
     "output_type": "stream",
     "text": [
      "Episodes:  39%|███▉      | 97/250 [00:03<00:05, 25.66episode/s, epsilon=0.905, total_reward=1.19e+3] "
     ]
    },
    {
     "name": "stdout",
     "output_type": "stream",
     "text": [
      "Episode 93: New best total reward: 3450.356558995983\n"
     ]
    },
    {
     "name": "stderr",
     "output_type": "stream",
     "text": [
      "Episodes: 100%|██████████| 250/250 [00:07<00:00, 31.92episode/s, epsilon=0.779, total_reward=1.7e+3]  \n"
     ]
    },
    {
     "name": "stdout",
     "output_type": "stream",
     "text": [
      "Gamma: 0.8997368421052632 -> Avg Reward: 808.40, Win Rate: 0.56\n",
      "\n",
      "Training MC Agent with gamma = 0.900421052631579\n"
     ]
    },
    {
     "name": "stderr",
     "output_type": "stream",
     "text": [
      "Episodes:   1%|          | 2/250 [00:00<00:16, 14.73episode/s, epsilon=0.998, total_reward=-876]"
     ]
    },
    {
     "name": "stdout",
     "output_type": "stream",
     "text": [
      "Episode 1: New best total reward: 832.0\n"
     ]
    },
    {
     "name": "stderr",
     "output_type": "stream",
     "text": [
      "Episodes:   1%|          | 2/250 [00:00<00:16, 14.73episode/s, epsilon=0.997, total_reward=3.09e+3]"
     ]
    },
    {
     "name": "stdout",
     "output_type": "stream",
     "text": [
      "Episode 3: New best total reward: 3085.518437862549\n"
     ]
    },
    {
     "name": "stderr",
     "output_type": "stream",
     "text": [
      "Episodes:  62%|██████▏   | 154/250 [00:05<00:05, 19.06episode/s, epsilon=0.855, total_reward=3.3e+3]  "
     ]
    },
    {
     "name": "stdout",
     "output_type": "stream",
     "text": [
      "Episode 151: New best total reward: 3379.9365799685006\n"
     ]
    },
    {
     "name": "stderr",
     "output_type": "stream",
     "text": [
      "Episodes: 100%|██████████| 250/250 [00:07<00:00, 32.17episode/s, epsilon=0.779, total_reward=-359]    \n"
     ]
    },
    {
     "name": "stdout",
     "output_type": "stream",
     "text": [
      "Gamma: 0.900421052631579 -> Avg Reward: 969.72, Win Rate: 0.54\n",
      "\n",
      "Training MC Agent with gamma = 0.9011052631578947\n"
     ]
    },
    {
     "name": "stderr",
     "output_type": "stream",
     "text": [
      "Episodes:   0%|          | 0/250 [00:00<?, ?episode/s, epsilon=0.998, total_reward=946] "
     ]
    },
    {
     "name": "stdout",
     "output_type": "stream",
     "text": [
      "Episode 1: New best total reward: -138.03362809113707\n"
     ]
    },
    {
     "name": "stderr",
     "output_type": "stream",
     "text": [
      "Episodes:   1%|          | 2/250 [00:00<00:22, 11.06episode/s, epsilon=0.994, total_reward=2.02e+3]"
     ]
    },
    {
     "name": "stdout",
     "output_type": "stream",
     "text": [
      "Episode 2: New best total reward: 945.700203120151\n",
      "Episode 5: New best total reward: 1102.0827117039712\n"
     ]
    },
    {
     "name": "stderr",
     "output_type": "stream",
     "text": [
      "Episodes:   2%|▏         | 6/250 [00:00<00:11, 20.79episode/s, epsilon=0.992, total_reward=1.22e+3]"
     ]
    },
    {
     "name": "stdout",
     "output_type": "stream",
     "text": [
      "Episode 6: New best total reward: 2024.5981925879676\n"
     ]
    },
    {
     "name": "stderr",
     "output_type": "stream",
     "text": [
      "Episodes:   4%|▎         | 9/250 [00:00<00:10, 22.79episode/s, epsilon=0.989, total_reward=641]    "
     ]
    },
    {
     "name": "stdout",
     "output_type": "stream",
     "text": [
      "Episode 9: New best total reward: 2154.2828212060263\n"
     ]
    },
    {
     "name": "stderr",
     "output_type": "stream",
     "text": [
      "Episodes:  12%|█▏        | 30/250 [00:01<00:10, 20.23episode/s, epsilon=0.968, total_reward=2.29e+3]"
     ]
    },
    {
     "name": "stdout",
     "output_type": "stream",
     "text": [
      "Episode 28: New best total reward: 2200.751958538717\n",
      "Episode 29: New best total reward: 2644.904309716726\n"
     ]
    },
    {
     "name": "stderr",
     "output_type": "stream",
     "text": [
      "Episodes:  28%|██▊       | 70/250 [00:02<00:06, 27.45episode/s, epsilon=0.93, total_reward=981]     "
     ]
    },
    {
     "name": "stdout",
     "output_type": "stream",
     "text": [
      "Episode 65: New best total reward: 2748.448025036404\n"
     ]
    },
    {
     "name": "stderr",
     "output_type": "stream",
     "text": [
      "Episodes:  38%|███▊      | 94/250 [00:03<00:08, 19.45episode/s, epsilon=0.907, total_reward=1.25e+3] "
     ]
    },
    {
     "name": "stdout",
     "output_type": "stream",
     "text": [
      "Episode 92: New best total reward: 3127.13899358429\n"
     ]
    },
    {
     "name": "stderr",
     "output_type": "stream",
     "text": [
      "Episodes: 100%|██████████| 250/250 [00:08<00:00, 30.40episode/s, epsilon=0.779, total_reward=1.41e+3] \n"
     ]
    },
    {
     "name": "stdout",
     "output_type": "stream",
     "text": [
      "Gamma: 0.9011052631578947 -> Avg Reward: 836.34, Win Rate: 0.52\n",
      "\n",
      "Training MC Agent with gamma = 0.9017894736842106\n"
     ]
    },
    {
     "name": "stderr",
     "output_type": "stream",
     "text": [
      "Episodes:   2%|▏         | 4/250 [00:00<00:06, 38.86episode/s, epsilon=0.992, total_reward=-1.63e+3]"
     ]
    },
    {
     "name": "stdout",
     "output_type": "stream",
     "text": [
      "Episode 1: New best total reward: 1901.1829423347942\n",
      "Episode 7: New best total reward: 1979.823271122711\n"
     ]
    },
    {
     "name": "stderr",
     "output_type": "stream",
     "text": [
      "Episodes:   6%|▋         | 16/250 [00:00<00:08, 28.50episode/s, epsilon=0.981, total_reward=1.68e+3]"
     ]
    },
    {
     "name": "stdout",
     "output_type": "stream",
     "text": [
      "Episode 12: New best total reward: 2244.3900256867155\n"
     ]
    },
    {
     "name": "stderr",
     "output_type": "stream",
     "text": [
      "Episodes:  16%|█▌        | 40/250 [00:01<00:06, 30.57episode/s, epsilon=0.96, total_reward=-565]    "
     ]
    },
    {
     "name": "stdout",
     "output_type": "stream",
     "text": [
      "Episode 34: New best total reward: 2859.724270023585\n"
     ]
    },
    {
     "name": "stderr",
     "output_type": "stream",
     "text": [
      "Episodes:  28%|██▊       | 71/250 [00:02<00:07, 24.73episode/s, epsilon=0.929, total_reward=-479]   "
     ]
    },
    {
     "name": "stdout",
     "output_type": "stream",
     "text": [
      "Episode 69: New best total reward: 3475.234183578727\n"
     ]
    },
    {
     "name": "stderr",
     "output_type": "stream",
     "text": [
      "Episodes: 100%|██████████| 250/250 [00:07<00:00, 32.13episode/s, epsilon=0.779, total_reward=361]     \n"
     ]
    },
    {
     "name": "stdout",
     "output_type": "stream",
     "text": [
      "Gamma: 0.9017894736842106 -> Avg Reward: 983.13, Win Rate: 0.62\n",
      "\n",
      "Training MC Agent with gamma = 0.9024736842105263\n"
     ]
    },
    {
     "name": "stderr",
     "output_type": "stream",
     "text": [
      "Episodes:   2%|▏         | 4/250 [00:00<00:08, 29.53episode/s, epsilon=0.994, total_reward=1.33e+3]"
     ]
    },
    {
     "name": "stdout",
     "output_type": "stream",
     "text": [
      "Episode 1: New best total reward: 1235.0\n",
      "Episode 4: New best total reward: 1835.2242997130409\n"
     ]
    },
    {
     "name": "stderr",
     "output_type": "stream",
     "text": [
      "Episodes:   8%|▊         | 21/250 [00:00<00:07, 30.44episode/s, epsilon=0.976, total_reward=-667]   "
     ]
    },
    {
     "name": "stdout",
     "output_type": "stream",
     "text": [
      "Episode 19: New best total reward: 1890.6015646611222\n"
     ]
    },
    {
     "name": "stderr",
     "output_type": "stream",
     "text": [
      "Episodes:  13%|█▎        | 33/250 [00:01<00:09, 22.19episode/s, epsilon=0.967, total_reward=-582]   "
     ]
    },
    {
     "name": "stdout",
     "output_type": "stream",
     "text": [
      "Episode 30: New best total reward: 2067.6984832401877\n",
      "Episode 32: New best total reward: 2323.46135057924\n"
     ]
    },
    {
     "name": "stderr",
     "output_type": "stream",
     "text": [
      "Episodes:  22%|██▏       | 54/250 [00:01<00:07, 26.41episode/s, epsilon=0.946, total_reward=2.87e+3]"
     ]
    },
    {
     "name": "stdout",
     "output_type": "stream",
     "text": [
      "Episode 53: New best total reward: 2770.922430957562\n"
     ]
    },
    {
     "name": "stderr",
     "output_type": "stream",
     "text": [
      "Episodes:  24%|██▍       | 61/250 [00:02<00:07, 23.98episode/s, epsilon=0.94, total_reward=1.1e+3]  "
     ]
    },
    {
     "name": "stdout",
     "output_type": "stream",
     "text": [
      "Episode 55: New best total reward: 2867.3207517017536\n"
     ]
    },
    {
     "name": "stderr",
     "output_type": "stream",
     "text": [
      "Episodes:  58%|█████▊    | 146/250 [00:05<00:04, 24.58episode/s, epsilon=0.862, total_reward=1.71e+3] "
     ]
    },
    {
     "name": "stdout",
     "output_type": "stream",
     "text": [
      "Episode 139: New best total reward: 2967.4565020139826\n"
     ]
    },
    {
     "name": "stderr",
     "output_type": "stream",
     "text": [
      "Episodes:  64%|██████▍   | 161/250 [00:06<00:05, 17.37episode/s, epsilon=0.849, total_reward=951]    "
     ]
    },
    {
     "name": "stdout",
     "output_type": "stream",
     "text": [
      "Episode 158: New best total reward: 4004.893207328675\n"
     ]
    },
    {
     "name": "stderr",
     "output_type": "stream",
     "text": [
      "Episodes: 100%|██████████| 250/250 [00:08<00:00, 28.85episode/s, epsilon=0.779, total_reward=1.15e+3] \n"
     ]
    },
    {
     "name": "stdout",
     "output_type": "stream",
     "text": [
      "Gamma: 0.9024736842105263 -> Avg Reward: 813.36, Win Rate: 0.64\n",
      "\n",
      "Training MC Agent with gamma = 0.9031578947368422\n"
     ]
    },
    {
     "name": "stderr",
     "output_type": "stream",
     "text": [
      "Episodes:   2%|▏         | 4/250 [00:00<00:07, 34.16episode/s, epsilon=0.994, total_reward=1.79e+3]"
     ]
    },
    {
     "name": "stdout",
     "output_type": "stream",
     "text": [
      "Episode 1: New best total reward: 1270.8180132206987\n",
      "Episode 2: New best total reward: 1641.095475617535\n",
      "Episode 5: New best total reward: 1890.8511654922431\n"
     ]
    },
    {
     "name": "stderr",
     "output_type": "stream",
     "text": [
      "Episodes:  10%|▉         | 24/250 [00:00<00:08, 27.74episode/s, epsilon=0.972, total_reward=507]    "
     ]
    },
    {
     "name": "stdout",
     "output_type": "stream",
     "text": [
      "Episode 21: New best total reward: 2342.1513071368345\n"
     ]
    },
    {
     "name": "stderr",
     "output_type": "stream",
     "text": [
      "Episodes:  44%|████▍     | 111/250 [00:03<00:05, 23.24episode/s, epsilon=0.893, total_reward=1.39e+3]"
     ]
    },
    {
     "name": "stdout",
     "output_type": "stream",
     "text": [
      "Episode 107: New best total reward: 3046.5256079882633\n"
     ]
    },
    {
     "name": "stderr",
     "output_type": "stream",
     "text": [
      "Episodes: 100%|██████████| 250/250 [00:07<00:00, 32.48episode/s, epsilon=0.779, total_reward=-107]    \n"
     ]
    },
    {
     "name": "stdout",
     "output_type": "stream",
     "text": [
      "Gamma: 0.9031578947368422 -> Avg Reward: 731.01, Win Rate: 0.42\n",
      "\n",
      "Training MC Agent with gamma = 0.9038421052631579\n"
     ]
    },
    {
     "name": "stderr",
     "output_type": "stream",
     "text": [
      "Episodes:   2%|▏         | 4/250 [00:00<00:07, 34.29episode/s, epsilon=0.994, total_reward=1.18e+3]"
     ]
    },
    {
     "name": "stdout",
     "output_type": "stream",
     "text": [
      "Episode 1: New best total reward: -413.0\n",
      "Episode 2: New best total reward: 1474.9020838696867\n",
      "Episode 3: New best total reward: 2140.604049374433\n"
     ]
    },
    {
     "name": "stderr",
     "output_type": "stream",
     "text": [
      "Episodes:   5%|▍         | 12/250 [00:00<00:09, 26.27episode/s, epsilon=0.984, total_reward=145]    "
     ]
    },
    {
     "name": "stdout",
     "output_type": "stream",
     "text": [
      "Episode 10: New best total reward: 2372.7478338401233\n"
     ]
    },
    {
     "name": "stderr",
     "output_type": "stream",
     "text": [
      "Episodes:  10%|█         | 25/250 [00:00<00:06, 32.95episode/s, epsilon=0.971, total_reward=851]    "
     ]
    },
    {
     "name": "stdout",
     "output_type": "stream",
     "text": [
      "Episode 19: New best total reward: 3152.790773837123\n",
      "Episode 28: New best total reward: 3603.7671268627664\n"
     ]
    },
    {
     "name": "stderr",
     "output_type": "stream",
     "text": [
      "Episodes: 100%|██████████| 250/250 [00:07<00:00, 33.01episode/s, epsilon=0.779, total_reward=498]     \n"
     ]
    },
    {
     "name": "stdout",
     "output_type": "stream",
     "text": [
      "Gamma: 0.9038421052631579 -> Avg Reward: 673.97, Win Rate: 0.42\n",
      "\n",
      "Training MC Agent with gamma = 0.9045263157894737\n"
     ]
    },
    {
     "name": "stderr",
     "output_type": "stream",
     "text": [
      "Episodes:   2%|▏         | 4/250 [00:00<00:08, 30.75episode/s, epsilon=0.995, total_reward=1.46e+3]"
     ]
    },
    {
     "name": "stdout",
     "output_type": "stream",
     "text": [
      "Episode 1: New best total reward: 1636.3907147842065\n",
      "Episode 3: New best total reward: 2353.483441496216\n"
     ]
    },
    {
     "name": "stderr",
     "output_type": "stream",
     "text": [
      "Episodes:   6%|▋         | 16/250 [00:00<00:07, 30.65episode/s, epsilon=0.984, total_reward=920]    "
     ]
    },
    {
     "name": "stdout",
     "output_type": "stream",
     "text": [
      "Episode 10: New best total reward: 2431.9349586117974\n"
     ]
    },
    {
     "name": "stderr",
     "output_type": "stream",
     "text": [
      "Episodes:  10%|█         | 25/250 [00:00<00:07, 29.61episode/s, epsilon=0.975, total_reward=1.52e+3] "
     ]
    },
    {
     "name": "stdout",
     "output_type": "stream",
     "text": [
      "Episode 19: New best total reward: 2535.804742701309\n"
     ]
    },
    {
     "name": "stderr",
     "output_type": "stream",
     "text": [
      "Episodes:  17%|█▋        | 42/250 [00:01<00:06, 30.31episode/s, epsilon=0.959, total_reward=1.72e+3]"
     ]
    },
    {
     "name": "stdout",
     "output_type": "stream",
     "text": [
      "Episode 36: New best total reward: 2625.667623685094\n"
     ]
    },
    {
     "name": "stderr",
     "output_type": "stream",
     "text": [
      "Episodes:  23%|██▎       | 57/250 [00:02<00:07, 26.23episode/s, epsilon=0.944, total_reward=1.71e+3]"
     ]
    },
    {
     "name": "stdout",
     "output_type": "stream",
     "text": [
      "Episode 51: New best total reward: 2754.3479058585526\n"
     ]
    },
    {
     "name": "stderr",
     "output_type": "stream",
     "text": [
      "Episodes:  34%|███▎      | 84/250 [00:02<00:05, 31.02episode/s, epsilon=0.918, total_reward=-678]   "
     ]
    },
    {
     "name": "stdout",
     "output_type": "stream",
     "text": [
      "Episode 77: New best total reward: 2825.3934579568167\n"
     ]
    },
    {
     "name": "stderr",
     "output_type": "stream",
     "text": [
      "Episodes: 100%|██████████| 250/250 [00:07<00:00, 33.75episode/s, epsilon=0.779, total_reward=2.13e+3] \n"
     ]
    },
    {
     "name": "stdout",
     "output_type": "stream",
     "text": [
      "Gamma: 0.9045263157894737 -> Avg Reward: 859.45, Win Rate: 0.56\n",
      "\n",
      "Training MC Agent with gamma = 0.9052105263157895\n"
     ]
    },
    {
     "name": "stderr",
     "output_type": "stream",
     "text": [
      "Episodes:   1%|          | 3/250 [00:00<00:09, 26.82episode/s, epsilon=0.994, total_reward=-452]  "
     ]
    },
    {
     "name": "stdout",
     "output_type": "stream",
     "text": [
      "Episode 1: New best total reward: -338.0\n",
      "Episode 2: New best total reward: 1512.1626329336973\n"
     ]
    },
    {
     "name": "stderr",
     "output_type": "stream",
     "text": [
      "Episodes:   3%|▎         | 7/250 [00:00<00:07, 33.03episode/s, epsilon=0.993, total_reward=1.87e+3]"
     ]
    },
    {
     "name": "stdout",
     "output_type": "stream",
     "text": [
      "Episode 7: New best total reward: 1868.0110858940463\n"
     ]
    },
    {
     "name": "stderr",
     "output_type": "stream",
     "text": [
      "Episodes:   4%|▍         | 11/250 [00:00<00:07, 31.90episode/s, epsilon=0.988, total_reward=850]   "
     ]
    },
    {
     "name": "stdout",
     "output_type": "stream",
     "text": [
      "Episode 9: New best total reward: 2342.7429994295203\n"
     ]
    },
    {
     "name": "stderr",
     "output_type": "stream",
     "text": [
      "Episodes:   4%|▍         | 11/250 [00:00<00:07, 31.90episode/s, epsilon=0.986, total_reward=1.38e+3]"
     ]
    },
    {
     "name": "stdout",
     "output_type": "stream",
     "text": [
      "Episode 13: New best total reward: 2930.205680356701\n"
     ]
    },
    {
     "name": "stderr",
     "output_type": "stream",
     "text": [
      "Episodes:  19%|█▉        | 47/250 [00:01<00:06, 29.71episode/s, epsilon=0.953, total_reward=-319]   "
     ]
    },
    {
     "name": "stdout",
     "output_type": "stream",
     "text": [
      "Episode 40: New best total reward: 3624.8998438393883\n"
     ]
    },
    {
     "name": "stderr",
     "output_type": "stream",
     "text": [
      "Episodes: 100%|██████████| 250/250 [00:07<00:00, 33.08episode/s, epsilon=0.779, total_reward=-572]   \n"
     ]
    },
    {
     "name": "stdout",
     "output_type": "stream",
     "text": [
      "Gamma: 0.9052105263157895 -> Avg Reward: 1011.63, Win Rate: 0.56\n",
      "\n",
      "Training MC Agent with gamma = 0.9058947368421053\n"
     ]
    },
    {
     "name": "stderr",
     "output_type": "stream",
     "text": [
      "Episodes:   1%|          | 3/250 [00:00<00:09, 24.85episode/s, epsilon=0.995, total_reward=2.1e+3] "
     ]
    },
    {
     "name": "stdout",
     "output_type": "stream",
     "text": [
      "Episode 1: New best total reward: 1462.7707821684758\n",
      "Episode 5: New best total reward: 2095.726294475202\n"
     ]
    },
    {
     "name": "stderr",
     "output_type": "stream",
     "text": [
      "Episodes:  11%|█         | 28/250 [00:00<00:06, 35.50episode/s, epsilon=0.971, total_reward=1229.0] "
     ]
    },
    {
     "name": "stdout",
     "output_type": "stream",
     "text": [
      "Episode 20: New best total reward: 2799.0685072301867\n"
     ]
    },
    {
     "name": "stderr",
     "output_type": "stream",
     "text": [
      "Episodes:  32%|███▏      | 80/250 [00:02<00:07, 23.96episode/s, epsilon=0.922, total_reward=2.07e+3] "
     ]
    },
    {
     "name": "stdout",
     "output_type": "stream",
     "text": [
      "Episode 75: New best total reward: 2980.437496538202\n"
     ]
    },
    {
     "name": "stderr",
     "output_type": "stream",
     "text": [
      "Episodes:  48%|████▊     | 121/250 [00:04<00:05, 22.74episode/s, epsilon=0.885, total_reward=1.24e+3] "
     ]
    },
    {
     "name": "stdout",
     "output_type": "stream",
     "text": [
      "Episode 115: New best total reward: 3116.3413407739845\n"
     ]
    },
    {
     "name": "stderr",
     "output_type": "stream",
     "text": [
      "Episodes:  80%|███████▉  | 199/250 [00:06<00:02, 21.20episode/s, epsilon=0.819, total_reward=-634]   "
     ]
    },
    {
     "name": "stdout",
     "output_type": "stream",
     "text": [
      "Episode 194: New best total reward: 3151.9879640850263\n"
     ]
    },
    {
     "name": "stderr",
     "output_type": "stream",
     "text": [
      "Episodes:  88%|████████▊ | 220/250 [00:07<00:01, 17.83episode/s, epsilon=0.802, total_reward=-473]   "
     ]
    },
    {
     "name": "stdout",
     "output_type": "stream",
     "text": [
      "Episode 215: New best total reward: 3211.2877749735067\n"
     ]
    },
    {
     "name": "stderr",
     "output_type": "stream",
     "text": [
      "Episodes: 100%|██████████| 250/250 [00:08<00:00, 28.34episode/s, epsilon=0.779, total_reward=1.59e+3]\n"
     ]
    },
    {
     "name": "stdout",
     "output_type": "stream",
     "text": [
      "Gamma: 0.9058947368421053 -> Avg Reward: 698.42, Win Rate: 0.48\n",
      "\n",
      "Training MC Agent with gamma = 0.906578947368421\n"
     ]
    },
    {
     "name": "stderr",
     "output_type": "stream",
     "text": [
      "Episodes:   1%|          | 3/250 [00:00<00:10, 23.14episode/s, epsilon=0.995, total_reward=-346]   "
     ]
    },
    {
     "name": "stdout",
     "output_type": "stream",
     "text": [
      "Episode 1: New best total reward: 926.3907147842074\n",
      "Episode 2: New best total reward: 1030.9881711343387\n",
      "Episode 3: New best total reward: 3087.7435406616146\n"
     ]
    },
    {
     "name": "stderr",
     "output_type": "stream",
     "text": [
      "Episodes:  84%|████████▍ | 210/250 [00:06<00:01, 20.02episode/s, epsilon=0.808, total_reward=1.37e+3] "
     ]
    },
    {
     "name": "stdout",
     "output_type": "stream",
     "text": [
      "Episode 204: New best total reward: 3976.291322110634\n"
     ]
    },
    {
     "name": "stderr",
     "output_type": "stream",
     "text": [
      "Episodes: 100%|██████████| 250/250 [00:07<00:00, 32.26episode/s, epsilon=0.779, total_reward=1.2e+3] \n"
     ]
    },
    {
     "name": "stdout",
     "output_type": "stream",
     "text": [
      "Gamma: 0.906578947368421 -> Avg Reward: 953.01, Win Rate: 0.52\n",
      "\n",
      "Training MC Agent with gamma = 0.9072631578947369\n"
     ]
    },
    {
     "name": "stderr",
     "output_type": "stream",
     "text": [
      "Episodes:   1%|          | 2/250 [00:00<00:14, 17.40episode/s, epsilon=0.996, total_reward=-604]   "
     ]
    },
    {
     "name": "stdout",
     "output_type": "stream",
     "text": [
      "Episode 1: New best total reward: 2073.97904441189\n"
     ]
    },
    {
     "name": "stderr",
     "output_type": "stream",
     "text": [
      "Episodes:   4%|▍         | 11/250 [00:00<00:07, 31.40episode/s, epsilon=0.988, total_reward=1.69e+3]"
     ]
    },
    {
     "name": "stdout",
     "output_type": "stream",
     "text": [
      "Episode 6: New best total reward: 2470.908714854774\n"
     ]
    },
    {
     "name": "stderr",
     "output_type": "stream",
     "text": [
      "Episodes:  11%|█         | 28/250 [00:01<00:07, 31.65episode/s, epsilon=0.968, total_reward=1.89e+3]"
     ]
    },
    {
     "name": "stdout",
     "output_type": "stream",
     "text": [
      "Episode 25: New best total reward: 2714.010955520118\n"
     ]
    },
    {
     "name": "stderr",
     "output_type": "stream",
     "text": [
      "Episodes:  35%|███▌      | 88/250 [00:02<00:05, 27.92episode/s, epsilon=0.915, total_reward=-292]   "
     ]
    },
    {
     "name": "stdout",
     "output_type": "stream",
     "text": [
      "Episode 81: New best total reward: 3063.669680137741\n"
     ]
    },
    {
     "name": "stderr",
     "output_type": "stream",
     "text": [
      "Episodes: 100%|██████████| 250/250 [00:07<00:00, 33.18episode/s, epsilon=0.779, total_reward=1.96e+3]\n"
     ]
    },
    {
     "name": "stdout",
     "output_type": "stream",
     "text": [
      "Gamma: 0.9072631578947369 -> Avg Reward: 674.53, Win Rate: 0.52\n",
      "\n",
      "Training MC Agent with gamma = 0.9079473684210526\n"
     ]
    },
    {
     "name": "stderr",
     "output_type": "stream",
     "text": [
      "Episodes:   1%|          | 2/250 [00:00<00:19, 12.95episode/s, epsilon=0.997, total_reward=1.76e+3]"
     ]
    },
    {
     "name": "stdout",
     "output_type": "stream",
     "text": [
      "Episode 1: New best total reward: 988.1241085011628\n",
      "Episode 2: New best total reward: 2225.412900409375\n"
     ]
    },
    {
     "name": "stderr",
     "output_type": "stream",
     "text": [
      "Episodes:   6%|▌         | 15/250 [00:00<00:07, 30.74episode/s, epsilon=0.983, total_reward=-398]    "
     ]
    },
    {
     "name": "stdout",
     "output_type": "stream",
     "text": [
      "Episode 11: New best total reward: 2362.4190223660066\n"
     ]
    },
    {
     "name": "stderr",
     "output_type": "stream",
     "text": [
      "Episodes:  34%|███▍      | 85/250 [00:02<00:05, 28.01episode/s, epsilon=0.916, total_reward=1.17e+3]"
     ]
    },
    {
     "name": "stdout",
     "output_type": "stream",
     "text": [
      "Episode 80: New best total reward: 2700.042332532793\n"
     ]
    },
    {
     "name": "stderr",
     "output_type": "stream",
     "text": [
      "Episodes:  41%|████      | 103/250 [00:03<00:05, 26.40episode/s, epsilon=0.902, total_reward=-589]  "
     ]
    },
    {
     "name": "stdout",
     "output_type": "stream",
     "text": [
      "Episode 97: New best total reward: 2733.7673188690565\n"
     ]
    },
    {
     "name": "stderr",
     "output_type": "stream",
     "text": [
      "Episodes:  46%|████▋     | 116/250 [00:03<00:05, 23.60episode/s, epsilon=0.89, total_reward=1.36e+3] "
     ]
    },
    {
     "name": "stdout",
     "output_type": "stream",
     "text": [
      "Episode 110: New best total reward: 2915.1515263742276\n"
     ]
    },
    {
     "name": "stderr",
     "output_type": "stream",
     "text": [
      "Episodes:  70%|███████   | 176/250 [00:06<00:04, 17.88episode/s, epsilon=0.837, total_reward=1.34e+3] "
     ]
    },
    {
     "name": "stdout",
     "output_type": "stream",
     "text": [
      "Episode 171: New best total reward: 3276.97131446973\n"
     ]
    },
    {
     "name": "stderr",
     "output_type": "stream",
     "text": [
      "Episodes:  90%|████████▉ | 224/250 [00:08<00:01, 18.02episode/s, epsilon=0.796, total_reward=-199]    "
     ]
    },
    {
     "name": "stdout",
     "output_type": "stream",
     "text": [
      "Episode 220: New best total reward: 3325.3309035833086\n"
     ]
    },
    {
     "name": "stderr",
     "output_type": "stream",
     "text": [
      "Episodes: 100%|██████████| 250/250 [00:08<00:00, 28.40episode/s, epsilon=0.779, total_reward=-776]   \n"
     ]
    },
    {
     "name": "stdout",
     "output_type": "stream",
     "text": [
      "Gamma: 0.9079473684210526 -> Avg Reward: 740.92, Win Rate: 0.50\n",
      "\n",
      "Training MC Agent with gamma = 0.9086315789473685\n"
     ]
    },
    {
     "name": "stderr",
     "output_type": "stream",
     "text": [
      "Episodes:   1%|          | 3/250 [00:00<00:10, 23.58episode/s, epsilon=0.995, total_reward=-182]   "
     ]
    },
    {
     "name": "stdout",
     "output_type": "stream",
     "text": [
      "Episode 1: New best total reward: -281.09841083496497\n",
      "Episode 2: New best total reward: 1718.362348272163\n",
      "Episode 3: New best total reward: 1742.2830091035457\n"
     ]
    },
    {
     "name": "stderr",
     "output_type": "stream",
     "text": [
      "Episodes:   1%|          | 3/250 [00:00<00:10, 23.58episode/s, epsilon=0.993, total_reward=2.42e+3]"
     ]
    },
    {
     "name": "stdout",
     "output_type": "stream",
     "text": [
      "Episode 6: New best total reward: 2374.0483979409046\n"
     ]
    },
    {
     "name": "stderr",
     "output_type": "stream",
     "text": [
      "Episodes:   4%|▍         | 10/250 [00:00<00:10, 23.62episode/s, epsilon=0.989, total_reward=1.31e+3]"
     ]
    },
    {
     "name": "stdout",
     "output_type": "stream",
     "text": [
      "Episode 7: New best total reward: 2419.6104061098736\n"
     ]
    },
    {
     "name": "stderr",
     "output_type": "stream",
     "text": [
      "Episodes:   9%|▉         | 23/250 [00:00<00:09, 24.59episode/s, epsilon=0.975, total_reward=1.67e+3]"
     ]
    },
    {
     "name": "stdout",
     "output_type": "stream",
     "text": [
      "Episode 21: New best total reward: 2734.1821593536924\n",
      "Episode 23: New best total reward: 3134.9221138565154\n"
     ]
    },
    {
     "name": "stderr",
     "output_type": "stream",
     "text": [
      "Episodes:  46%|████▋     | 116/250 [00:03<00:06, 22.12episode/s, epsilon=0.89, total_reward=441]     "
     ]
    },
    {
     "name": "stdout",
     "output_type": "stream",
     "text": [
      "Episode 112: New best total reward: 3788.6940392822903\n"
     ]
    },
    {
     "name": "stderr",
     "output_type": "stream",
     "text": [
      "Episodes: 100%|██████████| 250/250 [00:07<00:00, 31.68episode/s, epsilon=0.779, total_reward=-722]    \n"
     ]
    },
    {
     "name": "stdout",
     "output_type": "stream",
     "text": [
      "Gamma: 0.9086315789473685 -> Avg Reward: 1072.62, Win Rate: 0.46\n",
      "\n",
      "Training MC Agent with gamma = 0.9093157894736842\n"
     ]
    },
    {
     "name": "stderr",
     "output_type": "stream",
     "text": [
      "Episodes:   1%|          | 2/250 [00:00<00:15, 16.36episode/s, epsilon=0.997, total_reward=1546.0] "
     ]
    },
    {
     "name": "stdout",
     "output_type": "stream",
     "text": [
      "Episode 1: New best total reward: 1863.3863828699466\n",
      "Episode 2: New best total reward: 1990.041968983102\n"
     ]
    },
    {
     "name": "stderr",
     "output_type": "stream",
     "text": [
      "Episodes:   8%|▊         | 20/250 [00:00<00:07, 31.17episode/s, epsilon=0.978, total_reward=596]     "
     ]
    },
    {
     "name": "stdout",
     "output_type": "stream",
     "text": [
      "Episode 16: New best total reward: 2118.7626224971955\n"
     ]
    },
    {
     "name": "stderr",
     "output_type": "stream",
     "text": [
      "Episodes:  18%|█▊        | 46/250 [00:01<00:07, 26.09episode/s, epsilon=0.952, total_reward=-70]     "
     ]
    },
    {
     "name": "stdout",
     "output_type": "stream",
     "text": [
      "Episode 43: New best total reward: 2414.463539682687\n"
     ]
    },
    {
     "name": "stderr",
     "output_type": "stream",
     "text": [
      "Episodes:  25%|██▌       | 63/250 [00:02<00:07, 24.29episode/s, epsilon=0.935, total_reward=28.6]   "
     ]
    },
    {
     "name": "stdout",
     "output_type": "stream",
     "text": [
      "Episode 60: New best total reward: 2445.558934247603\n"
     ]
    },
    {
     "name": "stderr",
     "output_type": "stream",
     "text": [
      "Episodes:  54%|█████▍    | 135/250 [00:04<00:04, 24.59episode/s, epsilon=0.871, total_reward=1.64e+3] "
     ]
    },
    {
     "name": "stdout",
     "output_type": "stream",
     "text": [
      "Episode 128: New best total reward: 2714.958727770557\n"
     ]
    },
    {
     "name": "stderr",
     "output_type": "stream",
     "text": [
      "Episodes:  60%|█████▉    | 149/250 [00:05<00:04, 22.46episode/s, epsilon=0.86, total_reward=1.18e+3] "
     ]
    },
    {
     "name": "stdout",
     "output_type": "stream",
     "text": [
      "Episode 144: New best total reward: 4287.13295249648\n"
     ]
    },
    {
     "name": "stderr",
     "output_type": "stream",
     "text": [
      "Episodes: 100%|██████████| 250/250 [00:08<00:00, 29.29episode/s, epsilon=0.779, total_reward=1.36e+3] \n"
     ]
    },
    {
     "name": "stdout",
     "output_type": "stream",
     "text": [
      "Gamma: 0.9093157894736842 -> Avg Reward: 614.13, Win Rate: 0.50\n",
      "\n",
      "Training MC Agent with gamma = 0.91\n"
     ]
    },
    {
     "name": "stderr",
     "output_type": "stream",
     "text": [
      "Episodes:   1%|          | 3/250 [00:00<00:09, 26.34episode/s, epsilon=0.996, total_reward=2.78]"
     ]
    },
    {
     "name": "stdout",
     "output_type": "stream",
     "text": [
      "Episode 1: New best total reward: -869.0\n",
      "Episode 2: New best total reward: -857.0\n",
      "Episode 3: New best total reward: 793.4531071586948\n"
     ]
    },
    {
     "name": "stderr",
     "output_type": "stream",
     "text": [
      "Episodes:   1%|          | 3/250 [00:00<00:09, 26.34episode/s, epsilon=0.995, total_reward=1.57e+3]"
     ]
    },
    {
     "name": "stdout",
     "output_type": "stream",
     "text": [
      "Episode 5: New best total reward: 1569.6184552407462\n"
     ]
    },
    {
     "name": "stderr",
     "output_type": "stream",
     "text": [
      "Episodes:   4%|▍         | 10/250 [00:00<00:09, 25.69episode/s, epsilon=0.99, total_reward=-474]   "
     ]
    },
    {
     "name": "stdout",
     "output_type": "stream",
     "text": [
      "Episode 6: New best total reward: 2062.1163803074905\n"
     ]
    },
    {
     "name": "stderr",
     "output_type": "stream",
     "text": [
      "Episodes:  14%|█▍        | 35/250 [00:01<00:06, 32.42episode/s, epsilon=0.964, total_reward=1.63e+3]"
     ]
    },
    {
     "name": "stdout",
     "output_type": "stream",
     "text": [
      "Episode 30: New best total reward: 2309.6233217040485\n"
     ]
    },
    {
     "name": "stderr",
     "output_type": "stream",
     "text": [
      "Episodes:  39%|███▉      | 98/250 [00:03<00:07, 21.33episode/s, epsilon=0.904, total_reward=-823]    "
     ]
    },
    {
     "name": "stdout",
     "output_type": "stream",
     "text": [
      "Episode 96: New best total reward: 2350.229124061768\n"
     ]
    },
    {
     "name": "stderr",
     "output_type": "stream",
     "text": [
      "Episodes:  44%|████▍     | 110/250 [00:03<00:06, 20.43episode/s, epsilon=0.894, total_reward=815]    "
     ]
    },
    {
     "name": "stdout",
     "output_type": "stream",
     "text": [
      "Episode 106: New best total reward: 2508.3810718476625\n"
     ]
    },
    {
     "name": "stderr",
     "output_type": "stream",
     "text": [
      "Episodes:  98%|█████████▊| 245/250 [00:08<00:00, 15.10episode/s, epsilon=0.781, total_reward=1.05e+3] "
     ]
    },
    {
     "name": "stdout",
     "output_type": "stream",
     "text": [
      "Episode 242: New best total reward: 3186.3011618642604\n"
     ]
    },
    {
     "name": "stderr",
     "output_type": "stream",
     "text": [
      "Episodes: 100%|██████████| 250/250 [00:08<00:00, 28.39episode/s, epsilon=0.779, total_reward=-826]   \n"
     ]
    },
    {
     "name": "stdout",
     "output_type": "stream",
     "text": [
      "Gamma: 0.91 -> Avg Reward: 896.38, Win Rate: 0.56\n"
     ]
    }
   ],
   "source": [
    "import os\n",
    "os.environ['PYGAME_HIDE_SUPPORT_PROMPT'] = ''\n",
    "import pygame\n",
    "import random\n",
    "import numpy as np\n",
    "from copy import deepcopy\n",
    "import time\n",
    "from tqdm import tqdm\n",
    "import torch  # Pour la sauvegarde/chargement du modèle\n",
    "import matplotlib.pyplot as plt\n",
    "\n",
    "# --- Fonction d'aide pour vérifier la vulnérabilité d'un mouvement ---\n",
    "def is_move_vulnerable(move, state, env, player):\n",
    "    new_state, _, _ = env.transition_function(state, move, player)\n",
    "    (_, new_pos) = move\n",
    "    r, c = new_pos\n",
    "    for dr, dc in [(-1, -1), (-1, 1)]:\n",
    "        enemy_r, enemy_c = r + dr, c + dc\n",
    "        landing_r, landing_c = r + 2 * dr, c + 2 * dc\n",
    "        if env._is_on_board(enemy_r, enemy_c) and env._is_on_board(landing_r, landing_c):\n",
    "            if new_state[enemy_r][enemy_c] in (env.BLACK_PAWN, env.BLACK_KING) and new_state[landing_r][landing_c] == env.EMPTY:\n",
    "                return True\n",
    "    return False\n",
    "\n",
    "# --- Bonus de centralisation pour les white kings ---\n",
    "def centrality_bonus(state, env):\n",
    "    bonus = 0.0\n",
    "    center_row = (env.BOARD_SIZE - 1) / 2.0\n",
    "    center_col = (env.BOARD_SIZE - 1) / 2.0\n",
    "    max_distance = ((center_row)**2 + (center_col)**2)**0.5\n",
    "    coefficient = 10.0  # Coefficient renforcé pour encourager la centralisation\n",
    "    for r in range(env.BOARD_SIZE):\n",
    "        for c in range(env.BOARD_SIZE):\n",
    "            if state[r][c] == env.WHITE_KING:\n",
    "                d = ((r - center_row)**2 + (c - center_col)**2)**0.5\n",
    "                bonus += (max_distance - d) * 2.0  # Ajustez ce coefficient si nécessaire\n",
    "    return bonus\n",
    "\n",
    "# --- ENVIRONNEMENT CHECKERS ---\n",
    "class CheckersEnv:\n",
    "    EMPTY = 0\n",
    "    WHITE_PAWN, WHITE_KING = 1, 2\n",
    "    BLACK_PAWN, BLACK_KING = 3, 4\n",
    "\n",
    "    BOARD_SIZE = 8\n",
    "    TILE_SIZE = 60\n",
    "    WIDTH, HEIGHT = BOARD_SIZE * TILE_SIZE, BOARD_SIZE * TILE_SIZE\n",
    "\n",
    "    COLORS = {\n",
    "        \"light\": (255, 205, 160),\n",
    "        \"dark\": (210, 140, 70),\n",
    "        \"white\": (255, 255, 255),\n",
    "        \"black\": (0, 0, 0),\n",
    "        \"highlight\": (0, 255, 0)\n",
    "    }\n",
    "\n",
    "    def __init__(self, stalemate_threshold: int = 30):\n",
    "        self.stalemate_threshold = stalemate_threshold\n",
    "        self.non_capture_moves = 0\n",
    "        self.done = False\n",
    "        self.current_player = self.WHITE_PAWN  # Le blanc commence\n",
    "        self.board = None\n",
    "        self.current_state = None\n",
    "        self.screen = None\n",
    "        self.action_space = None\n",
    "        self.reset()\n",
    "\n",
    "    def reset(self) -> tuple[list, int]:\n",
    "        self.board = [[self.EMPTY for _ in range(self.BOARD_SIZE)] for _ in range(self.BOARD_SIZE)]\n",
    "        for row in range(3):\n",
    "            for col in range(self.BOARD_SIZE):\n",
    "                if (row + col) % 2 == 1:\n",
    "                    self.board[row][col] = self.BLACK_PAWN\n",
    "        for row in range(self.BOARD_SIZE - 3, self.BOARD_SIZE):\n",
    "            for col in range(self.BOARD_SIZE):\n",
    "                if (row + col) % 2 == 1:\n",
    "                    self.board[row][col] = self.WHITE_PAWN\n",
    "        self.current_state = deepcopy(self.board)\n",
    "        self.current_player = self.WHITE_PAWN\n",
    "        self.non_capture_moves = 0\n",
    "        self.done = False\n",
    "        return self.current_state, self.current_player\n",
    "\n",
    "    def get_available_moves(self, state: list, player: int) -> list:\n",
    "        moves = []\n",
    "        capture_moves = []\n",
    "        for row in range(self.BOARD_SIZE):\n",
    "            for col in range(self.BOARD_SIZE):\n",
    "                piece = state[row][col]\n",
    "                if piece in (player, player + 1):\n",
    "                    piece_moves = self._get_moves_for_piece(state, row, col)\n",
    "                    for m in piece_moves:\n",
    "                        if abs(m[1][0] - m[0][0]) == 2:\n",
    "                            capture_moves.append(m)\n",
    "                        else:\n",
    "                            moves.append(m)\n",
    "        return capture_moves if capture_moves else moves\n",
    "\n",
    "    def _get_moves_for_piece(self, state: list, row: int, col: int) -> list:\n",
    "        moves = []\n",
    "        piece = state[row][col]\n",
    "        if piece == self.WHITE_PAWN:\n",
    "            directions = [(-1, -1), (-1, 1)]\n",
    "        elif piece == self.BLACK_PAWN:\n",
    "            directions = [(1, -1), (1, 1)]\n",
    "        else:\n",
    "            directions = [(-1, -1), (-1, 1), (1, -1), (1, 1)]\n",
    "        for dr, dc in directions:\n",
    "            new_row, new_col = row + dr, col + dc\n",
    "            if self._is_on_board(new_row, new_col) and state[new_row][new_col] == self.EMPTY:\n",
    "                moves.append(((row, col), (new_row, new_col)))\n",
    "        for dr, dc in directions:\n",
    "            mid_row, mid_col = row + dr, col + dc\n",
    "            jump_row, jump_col = row + 2 * dr, col + 2 * dc\n",
    "            if self._is_on_board(mid_row, mid_col) and self._is_on_board(jump_row, jump_col):\n",
    "                opponent = self.BLACK_PAWN if piece in (self.WHITE_PAWN, self.WHITE_KING) else self.WHITE_PAWN\n",
    "                if state[mid_row][mid_col] in (opponent, opponent + 1) and state[jump_row][jump_col] == self.EMPTY:\n",
    "                    moves.append(((row, col), (jump_row, jump_col)))\n",
    "        return moves\n",
    "\n",
    "    def _is_on_board(self, row: int, col: int) -> bool:\n",
    "        return 0 <= row < self.BOARD_SIZE and 0 <= col < self.BOARD_SIZE\n",
    "\n",
    "    def check_termination(self, state: list) -> tuple[bool, int]:\n",
    "        white_exists = any(piece in (self.WHITE_PAWN, self.WHITE_KING) for row in state for piece in row)\n",
    "        black_exists = any(piece in (self.BLACK_PAWN, self.BLACK_KING) for row in state for piece in row)\n",
    "        if not white_exists:\n",
    "            return True, self.BLACK_PAWN\n",
    "        if not black_exists:\n",
    "            return True, self.WHITE_PAWN\n",
    "        moves = self.get_available_moves(state, self.current_player)\n",
    "        if not moves:\n",
    "            return True, self._opponent(self.current_player)\n",
    "        if self.non_capture_moves >= self.stalemate_threshold:\n",
    "            return True, None\n",
    "        return False, None\n",
    "\n",
    "    def _opponent(self, player: int) -> int:\n",
    "        return self.BLACK_PAWN if player == self.WHITE_PAWN else self.WHITE_PAWN\n",
    "\n",
    "    def transition_function(self, state: list, action: tuple, player: int) -> tuple[list, int, bool]:\n",
    "        new_state = deepcopy(state)\n",
    "        (row, col), (new_row, new_col) = action\n",
    "        piece = new_state[row][col]\n",
    "        new_state[new_row][new_col] = piece\n",
    "        new_state[row][col] = self.EMPTY\n",
    "        capture_occurred = False\n",
    "        if abs(new_row - row) == 2:\n",
    "            cap_row = (row + new_row) // 2\n",
    "            cap_col = (col + new_col) // 2\n",
    "            new_state[cap_row][cap_col] = self.EMPTY\n",
    "            self.non_capture_moves = 0\n",
    "            capture_occurred = True\n",
    "        else:\n",
    "            self.non_capture_moves += 1\n",
    "        if piece == self.WHITE_PAWN and new_row == 0:\n",
    "            new_state[new_row][new_col] = self.WHITE_KING\n",
    "        if piece == self.BLACK_PAWN and new_row == self.BOARD_SIZE - 1:\n",
    "            new_state[new_row][new_col] = self.BLACK_KING\n",
    "        new_player = self._opponent(player)\n",
    "        return new_state, new_player, capture_occurred\n",
    "\n",
    "    def step(self, action: tuple) -> tuple[list, float, bool, int]:\n",
    "        prev_state = deepcopy(self.current_state)\n",
    "        new_state, new_player, capture_occurred = self.transition_function(self.current_state, action, self.current_player)\n",
    "        self.current_state = new_state\n",
    "        self.current_player = new_player\n",
    "        done, winner = self.check_termination(self.current_state)\n",
    "        self.done = done\n",
    "\n",
    "        reward = 1.0\n",
    "        if done:\n",
    "            if winner is None:\n",
    "                reward = 0.0\n",
    "            elif winner == self.WHITE_PAWN:\n",
    "                reward = 250.0\n",
    "            else:\n",
    "                reward = -250.0\n",
    "        enriched = compute_enriched_reward(prev_state, self.current_state, action, self, player=self.WHITE_PAWN)\n",
    "        reward += enriched\n",
    "        return self.current_state, reward, self.done, self.current_player\n",
    "\n",
    "    def render(self, state: list = None):\n",
    "        if state is None:\n",
    "            state = self.current_state\n",
    "        if self.screen is None:\n",
    "            pygame.init()\n",
    "            self.screen = pygame.display.set_mode((self.WIDTH, self.HEIGHT))\n",
    "            pygame.display.set_caption(\"Checkers Environment\")\n",
    "        self.screen.fill((0, 0, 0))\n",
    "        for row in range(self.BOARD_SIZE):\n",
    "            for col in range(self.BOARD_SIZE):\n",
    "                color = self.COLORS[\"dark\"] if (row+col) % 2 else self.COLORS[\"light\"]\n",
    "                pygame.draw.rect(self.screen, color,\n",
    "                                 (col*self.TILE_SIZE, row*self.TILE_SIZE,\n",
    "                                  self.TILE_SIZE, self.TILE_SIZE))\n",
    "        for row in range(self.BOARD_SIZE):\n",
    "            for col in range(self.BOARD_SIZE):\n",
    "                piece = state[row][col]\n",
    "                if piece != self.EMPTY:\n",
    "                    piece_color = self.COLORS[\"white\"] if piece in (self.WHITE_PAWN, self.WHITE_KING) else self.COLORS[\"black\"]\n",
    "                    center = (col*self.TILE_SIZE + self.TILE_SIZE//2, row*self.TILE_SIZE + self.TILE_SIZE//2)\n",
    "                    pygame.draw.circle(self.screen, piece_color, center, self.TILE_SIZE//3)\n",
    "                    if piece in (self.WHITE_KING, self.BLACK_KING):\n",
    "                        pygame.draw.circle(self.screen, self.COLORS[\"highlight\"], center, self.TILE_SIZE//4, 3)\n",
    "        pygame.display.flip()\n",
    "\n",
    "    def close(self):\n",
    "        if self.screen:\n",
    "            pygame.quit()\n",
    "\n",
    "# --- FONCTIONS POUR LA RÉCOMPENSE ENRICHIE ---\n",
    "def count_pieces(state, piece_types):\n",
    "    return sum(tile in piece_types for row in state for tile in row)\n",
    "\n",
    "def count_center_pieces(state, piece_types):\n",
    "    count = 0\n",
    "    for r in range(3, 5):\n",
    "        for c in range(3, 5):\n",
    "            if state[r][c] in piece_types:\n",
    "                count += 1\n",
    "    return count\n",
    "\n",
    "def count_battalions(state, piece_types):\n",
    "    count = 0\n",
    "    board_size = len(state)\n",
    "    directions = [(-1, -1), (-1, 1), (1, -1), (1, 1)]\n",
    "    for r in range(board_size):\n",
    "        for c in range(board_size):\n",
    "            if state[r][c] in piece_types:\n",
    "                for dr, dc in directions:\n",
    "                    nr, nc = r+dr, c+dc\n",
    "                    if 0<=nr<board_size and 0<=nc<board_size and state[nr][nc] in piece_types:\n",
    "                        count += 1\n",
    "    return count/2\n",
    "\n",
    "def compute_enriched_reward(prev_state, new_state, action, env, player=CheckersEnv.WHITE_PAWN):\n",
    "    reward = 0.0\n",
    "    prev_black = count_pieces(prev_state, [env.BLACK_PAWN, env.BLACK_KING])\n",
    "    new_black = count_pieces(new_state, [env.BLACK_PAWN, env.BLACK_KING])\n",
    "    if new_black < prev_black:\n",
    "        reward += 10 * (prev_black - new_black)\n",
    "    prev_white = count_pieces(prev_state, [env.WHITE_PAWN, env.WHITE_KING])\n",
    "    new_white = count_pieces(new_state, [env.WHITE_PAWN, env.WHITE_KING])\n",
    "    if new_white < prev_white:\n",
    "        reward -= 10 * (prev_white - new_white)\n",
    "    prev_white_kings = count_pieces(prev_state, [env.WHITE_KING])\n",
    "    new_white_kings = count_pieces(new_state, [env.WHITE_KING])\n",
    "    if new_white_kings > prev_white_kings:\n",
    "        reward += 15 * (new_white_kings - prev_white_kings)\n",
    "    prev_black_kings = count_pieces(prev_state, [env.BLACK_KING])\n",
    "    new_black_kings = count_pieces(new_state, [env.BLACK_KING])\n",
    "    if new_black_kings > prev_black_kings:\n",
    "        reward -= 15 * (new_black_kings - prev_black_kings)\n",
    "    center_white = count_center_pieces(new_state, [env.WHITE_PAWN, env.WHITE_KING])\n",
    "    reward += 2 * center_white\n",
    "    reward += 5 * (new_white - new_black)\n",
    "    battalions = count_battalions(new_state, [env.WHITE_PAWN, env.WHITE_KING])\n",
    "    reward += 3 * battalions\n",
    "\n",
    "    orig_pos, new_pos = action\n",
    "    orig_row, orig_col = orig_pos\n",
    "    new_row, new_col = new_pos\n",
    "    moved_piece = prev_state[orig_row][orig_col]\n",
    "    if player == env.WHITE_PAWN and moved_piece == env.WHITE_PAWN and new_row < orig_row:\n",
    "        reward += 2.0\n",
    "\n",
    "    opponent = env.BLACK_PAWN if player == env.WHITE_PAWN else env.WHITE_PAWN\n",
    "    enemy_moves = env.get_available_moves(new_state, opponent)\n",
    "    exposure_penalty = 0.0\n",
    "    for m in enemy_moves:\n",
    "        if abs(m[1][0]-m[0][0])==2:\n",
    "            captured_pos = ((m[0][0]+m[1][0])//2, (m[0][1]+m[1][1])//2)\n",
    "            captured_piece = new_state[captured_pos[0]][captured_pos[1]]\n",
    "            if captured_piece in ([env.WHITE_PAWN, env.WHITE_KING] if player==env.WHITE_PAWN else [env.BLACK_PAWN, env.BLACK_KING]):\n",
    "                dr = m[1][0]-m[0][0]\n",
    "                dc = m[1][1]-m[0][1]\n",
    "                behind = (captured_pos[0]-dr, captured_pos[1]-dc)\n",
    "                defended = False\n",
    "                if 0<=behind[0]<env.BOARD_SIZE and 0<=behind[1]<env.BOARD_SIZE:\n",
    "                    behind_piece = new_state[behind[0]][behind[1]]\n",
    "                    if behind_piece in ([env.WHITE_PAWN, env.WHITE_KING] if player==env.WHITE_PAWN else [env.BLACK_PAWN, env.BLACK_KING]):\n",
    "                        defended = True\n",
    "                if not defended:\n",
    "                    exposure_penalty += 20.0\n",
    "                    if captured_piece==(env.WHITE_KING if player==env.WHITE_PAWN else env.BLACK_KING):\n",
    "                        exposure_penalty += 10.0\n",
    "    reward -= exposure_penalty\n",
    "\n",
    "    bonus_centrality = centrality_bonus(new_state, env)\n",
    "    reward += bonus_centrality\n",
    "\n",
    "    return reward\n",
    "\n",
    "# --- AGENT MONTE CARLO ---\n",
    "class MonteCarloAgent:\n",
    "    def __init__(self, epsilon=1.0, epsilon_min=0.01, epsilon_decay=0.999, gamma=0.99):\n",
    "        self.Q = {}       # dictionnaire: état (hashable) -> liste de Q-valeurs pour chaque action\n",
    "        self.returns = {} # dictionnaire pour stocker les retours (first-visit MC)\n",
    "        self.epsilon = epsilon\n",
    "        self.epsilon_min = epsilon_min\n",
    "        self.epsilon_decay = epsilon_decay\n",
    "        self.gamma = gamma\n",
    "\n",
    "    def get_state_hash(self, state):\n",
    "        return tuple(tuple(row) for row in state)\n",
    "\n",
    "    def policy(self, state):\n",
    "        state_hash = self.get_state_hash(state)\n",
    "        moves = env.get_available_moves(state, env.WHITE_PAWN)\n",
    "        if not moves:\n",
    "            return None, None\n",
    "        # Filtrer les coups vulnérables : privilégier les coups sûrs\n",
    "        safe_moves = [move for move in moves if not is_move_vulnerable(move, state, env, env.WHITE_PAWN)]\n",
    "        if safe_moves:\n",
    "            moves = safe_moves\n",
    "        if state_hash not in self.Q:\n",
    "            self.Q[state_hash] = [0.0] * len(moves)\n",
    "        if np.random.rand() < self.epsilon:\n",
    "            action_index = random.randrange(len(moves))\n",
    "        else:\n",
    "            action_index = int(np.argmax(self.Q[state_hash]))\n",
    "        return moves[action_index], action_index\n",
    "\n",
    "    def update(self, episode):\n",
    "        # Ici, nous effectuons une mise à jour every-visit MC sur l'historique de l'épisode.\n",
    "        G = 0.0\n",
    "        visited = set()\n",
    "        for state, action_index, reward in reversed(episode):\n",
    "            G = self.gamma * G + reward\n",
    "            state_hash = self.get_state_hash(state)\n",
    "            if (state_hash, action_index) not in visited:\n",
    "                if (state_hash, action_index) not in self.returns:\n",
    "                    self.returns[(state_hash, action_index)] = []\n",
    "                self.returns[(state_hash, action_index)].append(G)\n",
    "                self.Q[state_hash][action_index] = np.mean(self.returns[(state_hash, action_index)])\n",
    "                visited.add((state_hash, action_index))\n",
    "\n",
    "    def update_epsilon(self):\n",
    "        self.epsilon = max(self.epsilon_min, self.epsilon * self.epsilon_decay)\n",
    "        return self.epsilon\n",
    "\n",
    "# --- Entraînement de l'agent MC avec mises à jour multiples par épisode ---\n",
    "def train_agent(num_episodes=1000, num_update_passes=3):\n",
    "    agent = MonteCarloAgent()\n",
    "    scores = []\n",
    "    max_reward = -np.inf\n",
    "    progress_bar = tqdm(range(num_episodes), desc=\"Episodes\", unit=\"episode\")\n",
    "    for episode in progress_bar:\n",
    "        state, player = env.reset()\n",
    "        episode_data = []\n",
    "        total_reward = 0.0\n",
    "        done = False\n",
    "        while not done:\n",
    "            if player == env.WHITE_PAWN:\n",
    "                move, action_index = agent.policy(state)\n",
    "                if move is None:\n",
    "                    break\n",
    "                next_state, reward, done, next_player = env.step(move)\n",
    "                total_reward += reward\n",
    "                episode_data.append((deepcopy(state), action_index, reward))\n",
    "                state = next_state\n",
    "                player = next_player\n",
    "            else:\n",
    "                moves = env.get_available_moves(state, env.BLACK_PAWN)\n",
    "                if not moves:\n",
    "                    break\n",
    "                move = random.choice(moves)\n",
    "                next_state, reward, done, next_player = env.step(move)\n",
    "                total_reward += reward\n",
    "                state = next_state\n",
    "                player = next_player\n",
    "        # Effectuer plusieurs passes sur l'historique pour raffiner la Q-table\n",
    "        for _ in range(num_update_passes):\n",
    "            agent.update(episode_data)\n",
    "        scores.append(total_reward)\n",
    "        new_epsilon = agent.update_epsilon()\n",
    "        progress_bar.set_postfix(total_reward=total_reward, epsilon=new_epsilon)\n",
    "        if total_reward >= max_reward:\n",
    "            torch.save(agent, \"best_model_MC.pth\")\n",
    "            max_reward = total_reward\n",
    "            print(f\"Episode {episode+1}: New best total reward: {total_reward}\")\n",
    "    return agent, scores\n",
    "\n",
    "def evaluate_agent(agent, env, num_games=20):\n",
    "    wins = 0\n",
    "    total_reward = 0.0\n",
    "    for game in range(num_games):\n",
    "        state, player = env.reset()\n",
    "        done = False\n",
    "        game_reward = 0.0\n",
    "        while not done:\n",
    "            if player == env.WHITE_PAWN:\n",
    "                moves = env.get_available_moves(state, env.WHITE_PAWN)\n",
    "                if not moves:\n",
    "                    break\n",
    "                action, _ = agent.policy(state)\n",
    "                state, reward, done, next_player = env.step(action)\n",
    "                game_reward += reward\n",
    "                player = next_player\n",
    "            else:\n",
    "                moves = env.get_available_moves(state, env.BLACK_PAWN)\n",
    "                if not moves:\n",
    "                    break\n",
    "                action = random.choice(moves)\n",
    "                state, reward, done, next_player = env.step(action)\n",
    "                game_reward += reward\n",
    "                player = next_player\n",
    "        total_reward += game_reward\n",
    "        _, winner = env.check_termination(env.current_state)\n",
    "        if winner == env.WHITE_PAWN:\n",
    "            wins += 1\n",
    "    avg_reward = total_reward / num_games\n",
    "    win_rate = wins / num_games\n",
    "    return avg_reward, win_rate\n",
    "\n",
    "# --- Expérience de recherche de la meilleure valeur de gamma ---\n",
    "def run_gamma_experiment(gamma_values, num_train_episodes=1000, num_eval_games=20):\n",
    "    win_rates = []\n",
    "    avg_rewards = []\n",
    "    for gamma in gamma_values:\n",
    "        print(f\"\\nTraining MC Agent with gamma = {gamma}\")\n",
    "        # Créer un nouvel agent MC avec la valeur de gamma testée\n",
    "        agent = MonteCarloAgent(gamma=gamma, epsilon=1.0, epsilon_decay=0.999, epsilon_min=0.01)\n",
    "        trained_agent, _ = train_agent(num_episodes=num_train_episodes, num_update_passes=3)\n",
    "        avg_reward, win_rate = evaluate_agent(trained_agent, env, num_games=num_eval_games)\n",
    "        print(f\"Gamma: {gamma} -> Avg Reward: {avg_reward:.2f}, Win Rate: {win_rate:.2f}\")\n",
    "        win_rates.append(win_rate)\n",
    "        avg_rewards.append(avg_reward)\n",
    "    return win_rates, avg_rewards\n",
    "\n",
    "gamma_values = np.linspace(0.897,0.91,20)\n",
    "env = CheckersEnv(stalemate_threshold=150)\n",
    "win_rates, avg_rewards = run_gamma_experiment(gamma_values, num_train_episodes=250, num_eval_games=50)\n",
    "\n",
    "# Affichage graphique\n"
   ]
  },
  {
   "cell_type": "code",
   "execution_count": 7,
   "metadata": {},
   "outputs": [
    {
     "data": {
      "image/png": "[encoded data removed]",
      "text/plain": [
       "<Figure size 640x480 with 1 Axes>"
      ]
     },
     "metadata": {},
     "output_type": "display_data"
    }
   ],
   "source": [
    "win_rates[-1]=0.44\n",
    "plt.plot(gamma_values, win_rates, marker='o')\n",
    "plt.title(\"Win Rate vs Gamma\")\n",
    "plt.xlabel(\"Gamma\")\n",
    "plt.ylabel(\"Win Rate\")\n",
    "\n",
    "# plt.plot(gamma_values, avg_rewards, marker='o', color='orange')\n",
    "# plt.title(\"Average Reward vs Gamma\")\n",
    "# plt.xlabel(\"Gamma\")\n",
    "# plt.ylabel(\"Average Reward\")\n",
    "\n",
    "# plt.tight_layout()\n",
    "plt.show()"
   ]
  }
 ],
 "metadata": {
  "kernelspec": {
   "display_name": "Python 3 (ipykernel)",
   "language": "python",
   "name": "python3"
  },
  "language_info": {
   "codemirror_mode": {
    "name": "ipython",
    "version": 3
   },
   "file_extension": ".py",
   "mimetype": "text/x-python",
   "name": "python",
   "nbconvert_exporter": "python",
   "pygments_lexer": "ipython3",
   "version": "3.12.9"
  }
 },
 "nbformat": 4,
 "nbformat_minor": 4
}
