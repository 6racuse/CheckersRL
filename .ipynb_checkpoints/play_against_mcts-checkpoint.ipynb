{
 "cells": [
  {
   "cell_type": "code",
   "execution_count": 1,
   "id": "2cf4dfe5-e413-4ecc-819c-87f7740570c1",
   "metadata": {},
   "outputs": [
    {
     "name": "stdout",
     "output_type": "stream",
     "text": [
      "pygame 2.6.1 (SDL 2.28.4, Python 3.12.9)\n",
      "Hello from the pygame community. https://www.pygame.org/contribute.html\n"
     ]
    }
   ],
   "source": [
    "from Environment import *\n",
    "from MCTS import MCTSNode, mcts"
   ]
  },
  {
   "cell_type": "code",
   "execution_count": 2,
   "id": "e51513ad-6c2c-444b-ab54-843262af34c6",
   "metadata": {},
   "outputs": [],
   "source": [
    "def transform_coordinates(row, col, board_size=8):\n",
    "    return board_size - 1 - row, col\n",
    "    \n",
    "def play_against_agent(state, player, env, iters=150):\n",
    "    done = False\n",
    "    while not done:\n",
    "        # Agent's Turn \n",
    "        print(f\"Agent's turn (Player {env.BLACK_PAWN})\")\n",
    "        best_action, root = mcts(state, env.BLACK_PAWN, env, iters)\n",
    "        \n",
    "        agent_start, agent_end = best_action\n",
    "        transformed_agent_start = transform_coordinates(agent_start[0], agent_start[1])\n",
    "        transformed_agent_end = transform_coordinates(agent_end[0], agent_end[1])\n",
    "        \n",
    "        print(f\"Agent plays: {transformed_agent_start} -> {transformed_agent_end}\")\n",
    "        \n",
    "        state, _, done, player = env.step(best_action)\n",
    "        env.render(state) \n",
    "        \n",
    "        if done:\n",
    "            print(\"Game Over! Agent wins!\" if player == env.WHITE_PAWN else \"Game Over! You win!\")\n",
    "            break\n",
    "\n",
    "        # Player's Turn\n",
    "        print(f\"Your turn (Player {env.WHITE_PAWN})\")\n",
    "        print(\"Enter your move in the format: (row, col) -> (new_row, new_col)\")\n",
    "        valid_move = False\n",
    "        while not valid_move:\n",
    "            move_input = input(\"Enter your move: \")\n",
    "            try:\n",
    "                move_str = move_input.strip().split(\"->\")\n",
    "                start = tuple(map(int, move_str[0].strip().strip('()').split(',')))\n",
    "                end = tuple(map(int, move_str[1].strip().strip('()').split(',')))\n",
    "                start_transformed = transform_coordinates(start[0], start[1])\n",
    "                end_transformed = transform_coordinates(end[0], end[1])\n",
    "\n",
    "                move = (start_transformed, end_transformed)\n",
    "\n",
    "                # Check if the move is valid for player's pieces\n",
    "                if move in env.get_available_moves(state, env.WHITE_PAWN):\n",
    "                    state, player, _ = env.apply_action_to_environment(state, move, env.WHITE_PAWN)\n",
    "                    valid_move = True\n",
    "                else:\n",
    "                    print(\"Invalid move. Please try again.\")\n",
    "            except Exception as e:\n",
    "                print(f\"Invalid input format or move: {e}. Please enter the move in the correct format.\")\n",
    "        \n",
    "        env.render(state)  # Render the state after the player's move\n",
    "        done, winner = env.is_game_finished(state)\n",
    "        if done:\n",
    "            print(\"Game Over! You win!\" if winner == env.WHITE_PAWN else \"Game Over! Agent wins!\")\n",
    "            break"
   ]
  },
  {
   "cell_type": "markdown",
   "id": "fc3affbc-7a5d-471f-9c88-8b1f7db58c28",
   "metadata": {},
   "source": [
    "# The following allows you to play against the MCTS Agent"
   ]
  },
  {
   "cell_type": "code",
   "execution_count": null,
   "id": "d7465fe9-69fe-4927-a215-2a90d4d3a47f",
   "metadata": {},
   "outputs": [],
   "source": [
    "env = CheckersEnv(stalemate_threshold=150)\n",
    "state, player = env.reset()\n",
    "player = env.BLACK_PAWN\n",
    "\n",
    "play_against_agent(state, player, env, iters=150)"
   ]
  }
 ],
 "metadata": {
  "kernelspec": {
   "display_name": "Python 3 (ipykernel)",
   "language": "python",
   "name": "python3"
  },
  "language_info": {
   "codemirror_mode": {
    "name": "ipython",
    "version": 3
   },
   "file_extension": ".py",
   "mimetype": "text/x-python",
   "name": "python",
   "nbconvert_exporter": "python",
   "pygments_lexer": "ipython3",
   "version": "3.12.9"
  }
 },
 "nbformat": 4,
 "nbformat_minor": 5
}
